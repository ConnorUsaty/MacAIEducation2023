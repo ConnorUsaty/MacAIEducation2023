{
 "cells": [
  {
   "cell_type": "code",
   "execution_count": null,
   "id": "extended-breast",
   "metadata": {},
   "outputs": [],
   "source": [
    "import numpy as np\n",
    "from tensorflow.keras.models import Sequential\n",
    "from tensorflow.keras.layers import Conv2D, Activation, MaxPooling2D, Dense, Flatten\n",
    "from tensorflow.keras.preprocessing.image import ImageDataGenerator"
   ]
  },
  {
   "cell_type": "markdown",
   "id": "grand-jenny",
   "metadata": {},
   "source": [
    "# Load Dataset"
   ]
  },
  {
   "cell_type": "code",
   "execution_count": null,
   "id": "hybrid-dairy",
   "metadata": {},
   "outputs": [],
   "source": [
    "X_train = # Your Code here #\n",
    "Y_train = # Your Code here #\n",
    "\n",
    "X_test = # Your Code here #\n",
    "Y_test = # Your Code here #"
   ]
  },
  {
   "cell_type": "code",
   "execution_count": null,
   "id": "fifteen-farming",
   "metadata": {},
   "outputs": [],
   "source": [
    "print(\"Shape of X_train: \", X_train.shape)\n",
    "print(\"Shape of Y_train: \", Y_train.shape)\n",
    "print(\"Shape of X_test: \", X_test.shape)\n",
    "print(\"Shape of Y_test: \", Y_test.shape)"
   ]
  },
  {
   "cell_type": "markdown",
   "id": "seeing-communication",
   "metadata": {},
   "source": [
    "# Model"
   ]
  },
  {
   "cell_type": "code",
   "execution_count": null,
   "id": "stainless-visiting",
   "metadata": {},
   "outputs": [],
   "source": [
    "model = Sequential([\n",
    "    # Your Code starts here #\n",
    "    \n",
    "    \n",
    "    \n",
    "    # Your Code ends here #\n",
    "])"
   ]
  },
  {
   "cell_type": "code",
   "execution_count": null,
   "id": "auburn-thomas",
   "metadata": {},
   "outputs": [],
   "source": [
    "model.compile( ''' # Your Code here # ''' )"
   ]
  },
  {
   "cell_type": "code",
   "execution_count": null,
   "id": "fluid-director",
   "metadata": {},
   "outputs": [],
   "source": [
    "model.fit( ''' # Your Code here # ''' )"
   ]
  },
  {
   "cell_type": "markdown",
   "id": "tutorial-anderson",
   "metadata": {},
   "source": [
    "# Evaluate performance on Test Dataset"
   ]
  },
  {
   "cell_type": "code",
   "execution_count": null,
   "id": "dress-organizer",
   "metadata": {},
   "outputs": [],
   "source": [
    "model.evaluate( ''' # Your Code here # ''' )"
   ]
  }
 ],
 "metadata": {
  "kernelspec": {
   "display_name": "Python 3",
   "language": "python",
   "name": "python3"
  },
  "language_info": {
   "codemirror_mode": {
    "name": "ipython",
    "version": 3
   },
   "file_extension": ".py",
   "mimetype": "text/x-python",
   "name": "python",
   "nbconvert_exporter": "python",
   "pygments_lexer": "ipython3",
   "version": "3.9.1"
  }
 },
 "nbformat": 4,
 "nbformat_minor": 5
}
